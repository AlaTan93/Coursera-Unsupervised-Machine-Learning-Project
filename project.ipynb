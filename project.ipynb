{
 "cells": [
  {
   "cell_type": "markdown",
   "id": "fbeceee8-ada6-4a72-90b0-f835f1bf4886",
   "metadata": {},
   "source": [
    "# Credit Card Lab for Unsupervised Machine Learning: Classification\n",
    "\n",
    "Notebook Author: Tan Song Xin Alastair\n",
    "\n",
    "Dataset Source: Kaggle\n",
    "\n",
    "Dataset Source URL: https://www.kaggle.com/datasets/arjunbhasin2013/ccdata\n",
    "\n",
    "Accessed Date: 14 February 2025"
   ]
  },
  {
   "cell_type": "code",
   "execution_count": 3,
   "id": "4fea21c2-dc4b-4c69-9e06-e56045d67d04",
   "metadata": {},
   "outputs": [],
   "source": [
    "import pandas as pd\n",
    "import numpy as np\n",
    "import sklearn, statistics\n",
    "from sklearn.preprocessing import StandardScaler, MinMaxScaler, RobustScaler\n",
    "from scipy.stats import kstest\n",
    "import scipy.stats\n",
    "import matplotlib.pyplot as plt\n",
    "import seaborn as sns\n",
    "\n",
    "#Get rid of warnings\n",
    "import warnings\n",
    "from sklearn.exceptions import DataConversionWarning\n",
    "warnings.filterwarnings(action='ignore', category=DataConversionWarning)"
   ]
  },
  {
   "cell_type": "code",
   "execution_count": 4,
   "id": "37032c71-8e29-4a29-87af-6d1e0cb4cb69",
   "metadata": {},
   "outputs": [
    {
     "name": "stdout",
     "output_type": "stream",
     "text": [
      "General Data Check:\n",
      "  CUST_ID      BALANCE  BALANCE_FREQUENCY  PURCHASES  ONEOFF_PURCHASES  \\\n",
      "0  C10001    40.900749           0.818182      95.40              0.00   \n",
      "1  C10002  3202.467416           0.909091       0.00              0.00   \n",
      "2  C10003  2495.148862           1.000000     773.17            773.17   \n",
      "3  C10004  1666.670542           0.636364    1499.00           1499.00   \n",
      "4  C10005   817.714335           1.000000      16.00             16.00   \n",
      "\n",
      "   INSTALLMENTS_PURCHASES  CASH_ADVANCE  PURCHASES_FREQUENCY  \\\n",
      "0                    95.4      0.000000             0.166667   \n",
      "1                     0.0   6442.945483             0.000000   \n",
      "2                     0.0      0.000000             1.000000   \n",
      "3                     0.0    205.788017             0.083333   \n",
      "4                     0.0      0.000000             0.083333   \n",
      "\n",
      "   ONEOFF_PURCHASES_FREQUENCY  PURCHASES_INSTALLMENTS_FREQUENCY  \\\n",
      "0                    0.000000                          0.083333   \n",
      "1                    0.000000                          0.000000   \n",
      "2                    1.000000                          0.000000   \n",
      "3                    0.083333                          0.000000   \n",
      "4                    0.083333                          0.000000   \n",
      "\n",
      "   CASH_ADVANCE_FREQUENCY  CASH_ADVANCE_TRX  PURCHASES_TRX  CREDIT_LIMIT  \\\n",
      "0                0.000000                 0              2        1000.0   \n",
      "1                0.250000                 4              0        7000.0   \n",
      "2                0.000000                 0             12        7500.0   \n",
      "3                0.083333                 1              1        7500.0   \n",
      "4                0.000000                 0              1        1200.0   \n",
      "\n",
      "      PAYMENTS  MINIMUM_PAYMENTS  PRC_FULL_PAYMENT  TENURE  \n",
      "0   201.802084        139.509787          0.000000      12  \n",
      "1  4103.032597       1072.340217          0.222222      12  \n",
      "2   622.066742        627.284787          0.000000      12  \n",
      "3     0.000000               NaN          0.000000      12  \n",
      "4   678.334763        244.791237          0.000000      12  \n",
      "NA/NULL count:\n",
      "CUST_ID                               0\n",
      "BALANCE                               0\n",
      "BALANCE_FREQUENCY                     0\n",
      "PURCHASES                             0\n",
      "ONEOFF_PURCHASES                      0\n",
      "INSTALLMENTS_PURCHASES                0\n",
      "CASH_ADVANCE                          0\n",
      "PURCHASES_FREQUENCY                   0\n",
      "ONEOFF_PURCHASES_FREQUENCY            0\n",
      "PURCHASES_INSTALLMENTS_FREQUENCY      0\n",
      "CASH_ADVANCE_FREQUENCY                0\n",
      "CASH_ADVANCE_TRX                      0\n",
      "PURCHASES_TRX                         0\n",
      "CREDIT_LIMIT                          1\n",
      "PAYMENTS                              0\n",
      "MINIMUM_PAYMENTS                    313\n",
      "PRC_FULL_PAYMENT                      0\n",
      "TENURE                                0\n",
      "dtype: int64\n"
     ]
    }
   ],
   "source": [
    "# Check if there are null/na values to deal with\n",
    "filename = \"CC GENERAL.csv\"\n",
    "\n",
    "pd_dataset = pd.read_csv(filename)\n",
    "print(\"General Data Check:\")\n",
    "print(pd_dataset.head())\n",
    "\n",
    "print(\"NA/NULL count:\")\n",
    "print(pd_dataset.isna().sum())"
   ]
  },
  {
   "cell_type": "code",
   "execution_count": null,
   "id": "a5550c9d-0e62-4a53-9ea0-6ddc8a44fc0c",
   "metadata": {},
   "outputs": [],
   "source": []
  }
 ],
 "metadata": {
  "kernelspec": {
   "display_name": "Python 3 (ipykernel)",
   "language": "python",
   "name": "python3"
  },
  "language_info": {
   "codemirror_mode": {
    "name": "ipython",
    "version": 3
   },
   "file_extension": ".py",
   "mimetype": "text/x-python",
   "name": "python",
   "nbconvert_exporter": "python",
   "pygments_lexer": "ipython3",
   "version": "3.12.7"
  }
 },
 "nbformat": 4,
 "nbformat_minor": 5
}
